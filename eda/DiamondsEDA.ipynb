{
 "cells": [
  {
   "cell_type": "code",
   "execution_count": null,
   "id": "3e033d8f",
   "metadata": {},
   "outputs": [],
   "source": [
    "!pip install pandas numpy plotly seaborn"
   ]
  },
  {
   "cell_type": "code",
   "execution_count": null,
   "id": "60493dab",
   "metadata": {},
   "outputs": [],
   "source": [
    "import pandas as pd\n",
    "import numpy as np\n",
    "import plotly.express as px"
   ]
  },
  {
   "cell_type": "code",
   "execution_count": null,
   "id": "9ef1b9da",
   "metadata": {},
   "outputs": [],
   "source": [
    "df = pd.read_csv('../data/diamonds/diamonds_train.csv')"
   ]
  },
  {
   "cell_type": "code",
   "execution_count": null,
   "id": "afe9aacd",
   "metadata": {},
   "outputs": [],
   "source": [
    "df.sample(n=5)"
   ]
  },
  {
   "cell_type": "code",
   "execution_count": null,
   "id": "f2977049",
   "metadata": {},
   "outputs": [],
   "source": [
    "rows_before = len(df)\n",
    "df = df.drop_duplicates()\n",
    "rows_after = len(df)\n",
    "rows_deleted = rows_before - rows_after\n",
    "print(f\"Number of rows deleted: {rows_deleted}\")"
   ]
  },
  {
   "cell_type": "code",
   "execution_count": null,
   "id": "ac0fd218",
   "metadata": {},
   "outputs": [],
   "source": [
    "df.isnull().sum()"
   ]
  },
  {
   "cell_type": "code",
   "execution_count": null,
   "id": "662d1253",
   "metadata": {},
   "outputs": [],
   "source": [
    "df.info()"
   ]
  },
  {
   "cell_type": "code",
   "execution_count": null,
   "id": "4524badf",
   "metadata": {},
   "outputs": [],
   "source": [
    "fig = px.histogram(df,'price')\n",
    "fig.show()"
   ]
  },
  {
   "cell_type": "code",
   "execution_count": null,
   "id": "cf35c6f1",
   "metadata": {},
   "outputs": [],
   "source": [
    "fig = px.histogram(df,'carat')\n",
    "fig.show()"
   ]
  },
  {
   "cell_type": "code",
   "execution_count": null,
   "id": "c85c7c7f",
   "metadata": {},
   "outputs": [],
   "source": [
    "fig = px.histogram(df,'cut')\n",
    "fig.show()"
   ]
  },
  {
   "cell_type": "code",
   "execution_count": null,
   "id": "e49c52f9",
   "metadata": {},
   "outputs": [],
   "source": [
    "print(f\"Bytes before conversion: {df['cut'].nbytes}\")\n",
    "df['cut'] = pd.Categorical(df['cut'], categories=['Fair', 'Good', 'Very Good', 'Premium', 'Ideal'], ordered=True)\n",
    "print(f\"Bytes after conversion: {df['cut'].nbytes}\")"
   ]
  },
  {
   "cell_type": "code",
   "execution_count": null,
   "id": "38dc4a12",
   "metadata": {},
   "outputs": [],
   "source": [
    "fig = px.histogram(df.sort_values(by='cut', ascending=False),'cut')\n",
    "fig.show()"
   ]
  },
  {
   "cell_type": "code",
   "execution_count": null,
   "id": "cbb752d2",
   "metadata": {},
   "outputs": [],
   "source": [
    "fig = px.histogram(df,'color')\n",
    "fig.show()"
   ]
  },
  {
   "cell_type": "code",
   "execution_count": null,
   "id": "4a7b856e",
   "metadata": {},
   "outputs": [],
   "source": [
    "print(f\"Bytes before conversion: {df['color'].nbytes}\")\n",
    "unique_colors = sorted(df['color'].unique(), reverse=True)\n",
    "df['color'] = pd.Categorical(df['color'], categories=unique_colors, ordered=True)\n",
    "print(f\"Bytes after conversion: {df['color'].nbytes}\")"
   ]
  },
  {
   "cell_type": "code",
   "execution_count": null,
   "id": "a50eb0d4",
   "metadata": {},
   "outputs": [],
   "source": [
    "fig = px.histogram(df.sort_values(by='color', ascending=False),'color')\n",
    "fig.show()"
   ]
  },
  {
   "cell_type": "code",
   "execution_count": null,
   "id": "95360a6f",
   "metadata": {},
   "outputs": [],
   "source": [
    "print(f\"Bytes before conversion: {df['clarity'].nbytes}\")\n",
    "df['clarity'] = pd.Categorical(df['clarity'], categories=['I1','I2','I3','SI1','SI2','VS1','VS2','VVS1','VVS2','IF','FL'], ordered=True)\n",
    "print(f\"Bytes after conversion: {df['clarity'].nbytes}\")"
   ]
  },
  {
   "cell_type": "code",
   "execution_count": null,
   "id": "ec6a19c9",
   "metadata": {},
   "outputs": [],
   "source": [
    "fig = px.histogram(df.sort_values(by='clarity', ascending=False),'clarity')\n",
    "fig.show()"
   ]
  },
  {
   "cell_type": "code",
   "execution_count": null,
   "id": "a140a227",
   "metadata": {},
   "outputs": [],
   "source": [
    "df.info()"
   ]
  },
  {
   "cell_type": "code",
   "execution_count": null,
   "id": "f362b201",
   "metadata": {},
   "outputs": [],
   "source": [
    "fig = px.histogram(df,'table')\n",
    "fig.show()"
   ]
  },
  {
   "cell_type": "code",
   "execution_count": null,
   "id": "d3be5fb8",
   "metadata": {},
   "outputs": [],
   "source": [
    "fig = px.histogram(df,'depth')\n",
    "fig.show()"
   ]
  },
  {
   "cell_type": "code",
   "execution_count": null,
   "id": "9a1574ed",
   "metadata": {},
   "outputs": [],
   "source": [
    "fig = px.histogram(df,'x')\n",
    "fig.show()"
   ]
  },
  {
   "cell_type": "code",
   "execution_count": null,
   "id": "cf1b2717",
   "metadata": {},
   "outputs": [],
   "source": [
    "fig = px.histogram(df,'y')\n",
    "fig.show()"
   ]
  },
  {
   "cell_type": "code",
   "execution_count": null,
   "id": "38fd7241",
   "metadata": {},
   "outputs": [],
   "source": [
    "fig = px.histogram(df,'z')\n",
    "fig.show()"
   ]
  },
  {
   "cell_type": "code",
   "execution_count": null,
   "id": "00fcf31b",
   "metadata": {},
   "outputs": [],
   "source": [
    "import seaborn as sns\n",
    "import pandas as pd\n",
    "import matplotlib.pyplot as plt  # Import matplotlib\n",
    "\n",
    "\n",
    "sns.pairplot(df)\n",
    "plt.show()"
   ]
  },
  {
   "cell_type": "code",
   "execution_count": null,
   "id": "c387db5f",
   "metadata": {},
   "outputs": [],
   "source": []
  },
  {
   "cell_type": "code",
   "execution_count": null,
   "id": "40c1eb08",
   "metadata": {},
   "outputs": [],
   "source": []
  }
 ],
 "metadata": {
  "kernelspec": {
   "display_name": "Python 3 (ipykernel)",
   "language": "python",
   "name": "python3"
  },
  "language_info": {
   "codemirror_mode": {
    "name": "ipython",
    "version": 3
   },
   "file_extension": ".py",
   "mimetype": "text/x-python",
   "name": "python",
   "nbconvert_exporter": "python",
   "pygments_lexer": "ipython3",
   "version": "3.9.13"
  }
 },
 "nbformat": 4,
 "nbformat_minor": 5
}
